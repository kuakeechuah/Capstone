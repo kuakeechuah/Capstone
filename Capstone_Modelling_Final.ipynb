{
 "cells": [
  {
   "cell_type": "markdown",
   "metadata": {},
   "source": [
    "## Notebook 3 Contents:\n",
    "\n",
    "- 1. Importing Libraries\n",
    "- 2. Importing Data\n",
    "- 3. Modeling\n",
    "    - CountVectorizer & Logistic Regression\n",
    "    - TF-IDF & Logistic Regression   \n",
    "    - CountVectorizer & Naive Bayes \n",
    "    - TF-IDF & Naive Bayes  \n",
    "    - CountVectorizer & SVC\n",
    "    - TF-IDF & SVC\n",
    "    - LSTM\n",
    "- 4. Model Evaluation\n",
    "- 5. Selection of Production Model\n",
    "- 7. Identifying the Most Predictive Words\n",
    "- 8. Applying Chosen Model on Holdout Set\n",
    "- 9. Success Evaluation"
   ]
  },
  {
   "cell_type": "code",
   "execution_count": 41,
   "metadata": {},
   "outputs": [],
   "source": [
    "import numpy as np\n",
    "import pandas as pd\n",
    "import re\n",
    "import matplotlib.pyplot as plt\n",
    "import seaborn as sns\n",
    "import os\n",
    "\n",
    "# Libraries for machine learning\n",
    "from sklearn.model_selection import train_test_split, GridSearchCV, cross_val_score\n",
    "from sklearn.feature_extraction.text import CountVectorizer, TfidfVectorizer\n",
    "from sklearn.pipeline import Pipeline\n",
    "from sklearn.model_selection import train_test_split, GridSearchCV\n",
    "from sklearn.linear_model import LogisticRegression\n",
    "from sklearn.naive_bayes import MultinomialNB\n",
    "from sklearn.svm import SVC\n",
    "from sklearn.metrics import classification_report, accuracy_score, confusion_matrix\n",
    "\n",
    "# Libraries for deep learning\n",
    "from tensorflow.keras.preprocessing.text import Tokenizer\n",
    "from tensorflow.keras.preprocessing.sequence import pad_sequences\n",
    "from tensorflow.keras.models import Sequential\n",
    "from tensorflow.keras.layers import Dense, LSTM, Flatten, Embedding, Dropout, Bidirectional, SpatialDropout1D\n",
    "from tensorflow.keras.optimizers import Adam\n",
    "from tensorflow.keras import regularizers\n",
    "from tensorflow.keras.callbacks import ModelCheckpoint\n",
    "\n",
    "%matplotlib inline"
   ]
  },
  {
   "cell_type": "code",
   "execution_count": 42,
   "metadata": {},
   "outputs": [],
   "source": [
    "comment = pd.read_csv('./datasets/clean_train.csv')"
   ]
  },
  {
   "cell_type": "code",
   "execution_count": 43,
   "metadata": {},
   "outputs": [
    {
     "data": {
      "text/html": [
       "<div>\n",
       "<style scoped>\n",
       "    .dataframe tbody tr th:only-of-type {\n",
       "        vertical-align: middle;\n",
       "    }\n",
       "\n",
       "    .dataframe tbody tr th {\n",
       "        vertical-align: top;\n",
       "    }\n",
       "\n",
       "    .dataframe thead th {\n",
       "        text-align: right;\n",
       "    }\n",
       "</style>\n",
       "<table border=\"1\" class=\"dataframe\">\n",
       "  <thead>\n",
       "    <tr style=\"text-align: right;\">\n",
       "      <th></th>\n",
       "      <th>Unnamed: 0</th>\n",
       "      <th>comment</th>\n",
       "      <th>comment_clean</th>\n",
       "      <th>number_of_words</th>\n",
       "      <th>rating</th>\n",
       "      <th>username</th>\n",
       "      <th>target</th>\n",
       "    </tr>\n",
       "  </thead>\n",
       "  <tbody>\n",
       "    <tr>\n",
       "      <th>0</th>\n",
       "      <td>2359</td>\n",
       "      <td>The game play is interesting with the blind bi...</td>\n",
       "      <td>game play interesting blind bid several avenue...</td>\n",
       "      <td>60</td>\n",
       "      <td>6.0</td>\n",
       "      <td>ultimoratio</td>\n",
       "      <td>0</td>\n",
       "    </tr>\n",
       "    <tr>\n",
       "      <th>1</th>\n",
       "      <td>48</td>\n",
       "      <td>This game feels awesome!!! Can't wait to play it!</td>\n",
       "      <td>game feel awesome wait play</td>\n",
       "      <td>5</td>\n",
       "      <td>10.0</td>\n",
       "      <td>arguset</td>\n",
       "      <td>1</td>\n",
       "    </tr>\n",
       "    <tr>\n",
       "      <th>2</th>\n",
       "      <td>657</td>\n",
       "      <td>Really fun with 4 players. Must think long ter...</td>\n",
       "      <td>really fun player must think long term strateg...</td>\n",
       "      <td>18</td>\n",
       "      <td>9.0</td>\n",
       "      <td>Jdragonslayer</td>\n",
       "      <td>1</td>\n",
       "    </tr>\n",
       "    <tr>\n",
       "      <th>3</th>\n",
       "      <td>4242</td>\n",
       "      <td>Good area control game.</td>\n",
       "      <td>good area control game</td>\n",
       "      <td>4</td>\n",
       "      <td>7.4</td>\n",
       "      <td>Tiggz</td>\n",
       "      <td>0</td>\n",
       "    </tr>\n",
       "    <tr>\n",
       "      <th>4</th>\n",
       "      <td>138</td>\n",
       "      <td>Awesome game and some of the greatest minis ev...</td>\n",
       "      <td>awesome game greatest mini ever made addition ...</td>\n",
       "      <td>19</td>\n",
       "      <td>9.5</td>\n",
       "      <td>bgg_rygarjg</td>\n",
       "      <td>1</td>\n",
       "    </tr>\n",
       "  </tbody>\n",
       "</table>\n",
       "</div>"
      ],
      "text/plain": [
       "   Unnamed: 0                                            comment  \\\n",
       "0        2359  The game play is interesting with the blind bi...   \n",
       "1          48  This game feels awesome!!! Can't wait to play it!   \n",
       "2         657  Really fun with 4 players. Must think long ter...   \n",
       "3        4242                           Good area control game.    \n",
       "4         138  Awesome game and some of the greatest minis ev...   \n",
       "\n",
       "                                       comment_clean  number_of_words  rating  \\\n",
       "0  game play interesting blind bid several avenue...               60     6.0   \n",
       "1                        game feel awesome wait play                5    10.0   \n",
       "2  really fun player must think long term strateg...               18     9.0   \n",
       "3                             good area control game                4     7.4   \n",
       "4  awesome game greatest mini ever made addition ...               19     9.5   \n",
       "\n",
       "        username  target  \n",
       "0    ultimoratio       0  \n",
       "1        arguset       1  \n",
       "2  Jdragonslayer       1  \n",
       "3          Tiggz       0  \n",
       "4    bgg_rygarjg       1  "
      ]
     },
     "execution_count": 43,
     "metadata": {},
     "output_type": "execute_result"
    }
   ],
   "source": [
    "comment.head()"
   ]
  },
  {
   "cell_type": "code",
   "execution_count": 44,
   "metadata": {},
   "outputs": [
    {
     "data": {
      "text/plain": [
       "(13260, 7)"
      ]
     },
     "execution_count": 44,
     "metadata": {},
     "output_type": "execute_result"
    }
   ],
   "source": [
    "# There are 13,260 rows \n",
    "comment.shape "
   ]
  },
  {
   "cell_type": "code",
   "execution_count": 45,
   "metadata": {},
   "outputs": [
    {
     "data": {
      "text/plain": [
       "1    0.513424\n",
       "0    0.486576\n",
       "Name: target, dtype: float64"
      ]
     },
     "execution_count": 45,
     "metadata": {},
     "output_type": "execute_result"
    }
   ],
   "source": [
    "# baseline score would be used to evaluate success\n",
    "comment['target'].value_counts(normalize=True)"
   ]
  },
  {
   "cell_type": "markdown",
   "metadata": {},
   "source": [
    "# Pre-Modeling"
   ]
  },
  {
   "cell_type": "code",
   "execution_count": 46,
   "metadata": {},
   "outputs": [],
   "source": [
    "X = comment['comment_clean']\n",
    "y = comment['target']"
   ]
  },
  {
   "cell_type": "code",
   "execution_count": 47,
   "metadata": {},
   "outputs": [],
   "source": [
    "#20% of the train set would be used for validation before applying final model on test set.\n",
    "X_train, X_val, y_train, y_val = train_test_split(X, y, test_size=0.2, random_state=42, stratify=y)"
   ]
  },
  {
   "cell_type": "code",
   "execution_count": 48,
   "metadata": {},
   "outputs": [
    {
     "data": {
      "text/plain": [
       "(10608,)"
      ]
     },
     "execution_count": 48,
     "metadata": {},
     "output_type": "execute_result"
    }
   ],
   "source": [
    "X_train.shape"
   ]
  },
  {
   "cell_type": "code",
   "execution_count": 49,
   "metadata": {},
   "outputs": [
    {
     "data": {
      "text/plain": [
       "(2652,)"
      ]
     },
     "execution_count": 49,
     "metadata": {},
     "output_type": "execute_result"
    }
   ],
   "source": [
    "X_val.shape"
   ]
  },
  {
   "cell_type": "code",
   "execution_count": 50,
   "metadata": {},
   "outputs": [
    {
     "data": {
      "text/plain": [
       "1    0.513386\n",
       "0    0.486614\n",
       "Name: target, dtype: float64"
      ]
     },
     "execution_count": 50,
     "metadata": {},
     "output_type": "execute_result"
    }
   ],
   "source": [
    "y_train.value_counts(normalize=True)"
   ]
  },
  {
   "cell_type": "code",
   "execution_count": 51,
   "metadata": {},
   "outputs": [
    {
     "data": {
      "text/plain": [
       "1    0.513575\n",
       "0    0.486425\n",
       "Name: target, dtype: float64"
      ]
     },
     "execution_count": 51,
     "metadata": {},
     "output_type": "execute_result"
    }
   ],
   "source": [
    "y_val.value_counts(normalize=True)"
   ]
  },
  {
   "cell_type": "code",
   "execution_count": 52,
   "metadata": {},
   "outputs": [
    {
     "data": {
      "text/plain": [
       "(10608, 17173)"
      ]
     },
     "execution_count": 52,
     "metadata": {},
     "output_type": "execute_result"
    }
   ],
   "source": [
    "# Use count vectorizer to check how many unique words there are\n",
    "cvec = CountVectorizer(stop_words='english') \n",
    "cvec_df = pd.DataFrame(cvec.fit_transform(X_train).todense(), columns=cvec.get_feature_names())\n",
    "cvec_df.shape #17173 unique words"
   ]
  },
  {
   "cell_type": "code",
   "execution_count": 53,
   "metadata": {},
   "outputs": [],
   "source": [
    "# Write a function that takes in the actual y value and model predictions and prints out the confusion matrix \n",
    "\n",
    "\n",
    "def cmat(actual_y, predictions, dataset):\n",
    "    \n",
    "    # Create a classification report\n",
    "    print('Classification report for', dataset)\n",
    "    print(classification_report(actual_y, predictions))\n",
    "    print('')\n",
    "    \n",
    "    # Create a confusion matrix\n",
    "    cm = confusion_matrix(actual_y, predictions)\n",
    "    cm_df = pd.DataFrame(cm, columns=['Predicted Positive Review','Predicted Negative Review'],\n",
    "                         index=['Actual Positive Review', 'Actual Negative Review'])\n",
    "    print('Confusion matrix for', dataset)\n",
    "    print(cm_df)"
   ]
  },
  {
   "cell_type": "markdown",
   "metadata": {},
   "source": [
    "## count vectorizer & logistic regression"
   ]
  },
  {
   "cell_type": "code",
   "execution_count": 83,
   "metadata": {},
   "outputs": [
    {
     "name": "stdout",
     "output_type": "stream",
     "text": [
      "Best parameters:  {'cvec__max_df': 0.9, 'cvec__max_features': 300, 'cvec__min_df': 2, 'lr__C': 0.01, 'lr__penalty': 'l2'}\n",
      "Best CV score:  0.6479069229811676\n",
      "Training score: 0.665629713423831\n",
      "Validation score: 0.6451734539969834\n",
      "\n",
      "Classification report for validation set\n",
      "              precision    recall  f1-score   support\n",
      "\n",
      "           0       0.66      0.56      0.61      1290\n",
      "           1       0.64      0.72      0.68      1362\n",
      "\n",
      "    accuracy                           0.65      2652\n",
      "   macro avg       0.65      0.64      0.64      2652\n",
      "weighted avg       0.65      0.65      0.64      2652\n",
      "\n",
      "\n",
      "Confusion matrix for validation set\n",
      "                        Predicted Positive Review  Predicted Negative Review\n",
      "Actual Positive Review                        727                        563\n",
      "Actual Negative Review                        378                        984\n"
     ]
    }
   ],
   "source": [
    "# Create a pipeline with Count Vectorizer and Logistic Regression\n",
    "pipe_cvec_lr = Pipeline([\n",
    "    ('cvec', CountVectorizer(stop_words='english')), \n",
    "    ('lr', LogisticRegression(random_state=42))\n",
    "])\n",
    "\n",
    "# Search over the following values of hyperparameters:\n",
    "pipe_cvec_lr_params = {\n",
    "    'cvec__max_features': [300],\n",
    "    'cvec__min_df': [2,3], \n",
    "    'cvec__max_df': [.9,.95], \n",
    "    #'cvec__ngram_range':[(1,1),(1,2)],  \n",
    "    'lr__penalty': ['l2'],\n",
    "    'lr__C': [.01,.1]\n",
    "}\n",
    "\n",
    "# Instantiate GridSearchCV\n",
    "gs_cvec_lr = GridSearchCV(pipe_cvec_lr,\n",
    "                          param_grid = pipe_cvec_lr_params, # Hyperparameters for tuning\n",
    "                          cv=10) # 10-fold cross validation\n",
    "\n",
    "# Fit model on to training data\n",
    "gs_cvec_lr.fit(X_train, y_train)\n",
    "\n",
    "# Generate predictions on validation set\n",
    "cvec_lr_pred = gs_cvec_lr.predict(X_val)\n",
    "\n",
    "# Print best parameters\n",
    "print('Best parameters: ', gs_cvec_lr.best_params_)\n",
    "\n",
    "# Print accuracy scores\n",
    "print('Best CV score: ', gs_cvec_lr.best_score_)\n",
    "print('Training score:', gs_cvec_lr.score(X_train, y_train))\n",
    "print('Validation score:', gs_cvec_lr.score(X_val, y_val))\n",
    "print('')\n",
    "\n",
    "# Print classification report and confusion matrix\n",
    "cmat(y_val, cvec_lr_pred, 'validation set')"
   ]
  },
  {
   "cell_type": "markdown",
   "metadata": {},
   "source": [
    "## tf-idf & logistic regression"
   ]
  },
  {
   "cell_type": "code",
   "execution_count": 61,
   "metadata": {},
   "outputs": [
    {
     "name": "stdout",
     "output_type": "stream",
     "text": [
      "Best parameters:  {'lr__C': 0.1, 'lr__penalty': 'l2', 'tvec__max_df': 0.9, 'tvec__max_features': 300, 'tvec__min_df': 2}\n",
      "Best CV score:  0.6480952465634059\n",
      "Training score: 0.6701546003016591\n",
      "Validation score: 0.6455505279034691\n",
      "\n",
      "Classification report for validation set\n",
      "              precision    recall  f1-score   support\n",
      "\n",
      "           0       0.65      0.58      0.62      1290\n",
      "           1       0.64      0.71      0.67      1362\n",
      "\n",
      "    accuracy                           0.65      2652\n",
      "   macro avg       0.65      0.64      0.64      2652\n",
      "weighted avg       0.65      0.65      0.64      2652\n",
      "\n",
      "\n",
      "Confusion matrix for validation set\n",
      "                        Predicted Positive Review  Predicted Negative Review\n",
      "Actual Positive Review                        751                        539\n",
      "Actual Negative Review                        401                        961\n"
     ]
    }
   ],
   "source": [
    "# Create a pipeline with TF-IDF and Logistic Regression\n",
    "pipe_tvec_lr = Pipeline([\n",
    "    ('tvec', TfidfVectorizer(stop_words='english')),\n",
    "    ('lr', LogisticRegression(random_state=42))\n",
    "])\n",
    "\n",
    "# Search over the following values of hyperparameters:\n",
    "pipe_tvec_lr_params = {\n",
    "    'tvec__max_features': [300], \n",
    "    'tvec__min_df': [2,3], \n",
    "    'tvec__max_df': [.9,.95], \n",
    "#     'tvec__ngram_range':[(1,1),(1,2)],  \n",
    "    'lr__penalty': ['l2'],\n",
    "    'lr__C': [.1, 1]\n",
    "}\n",
    "\n",
    "# Instantiate GridSearchCV\n",
    "gs_tvec_lr = GridSearchCV(pipe_tvec_lr, \n",
    "                          param_grid = pipe_tvec_lr_params, # Hyperparameters for tuning\n",
    "                          cv=10) # 10-fold cross validation\n",
    "\n",
    "# Fit model on to training data\n",
    "gs_tvec_lr.fit(X_train, y_train)\n",
    "\n",
    "# Generate predictions on validation set\n",
    "tvec_lr_pred = gs_tvec_lr.predict(X_val)\n",
    "\n",
    "# Print best parameters\n",
    "print('Best parameters: ', gs_tvec_lr.best_params_)\n",
    "\n",
    "# Print accuracy scores\n",
    "print('Best CV score: ', gs_tvec_lr.best_score_)\n",
    "print('Training score:', gs_tvec_lr.score(X_train, y_train))\n",
    "print('Validation score:', gs_tvec_lr.score(X_val, y_val))\n",
    "print('')\n",
    "\n",
    "# Print classification report and confusion matrix\n",
    "cmat(y_val, tvec_lr_pred, 'validation set')"
   ]
  },
  {
   "cell_type": "markdown",
   "metadata": {},
   "source": [
    "## count vectorizer & naive bayes"
   ]
  },
  {
   "cell_type": "code",
   "execution_count": 62,
   "metadata": {},
   "outputs": [
    {
     "name": "stdout",
     "output_type": "stream",
     "text": [
      "Best parameters:  {'cvec__max_df': 0.9, 'cvec__max_features': 500, 'cvec__min_df': 3}\n",
      "Best CV score:  0.6651579143919052\n",
      "Training score: 0.6798642533936652\n",
      "Validation score: 0.6534690799396682\n",
      "\n",
      "Classification report for validation set\n",
      "              precision    recall  f1-score   support\n",
      "\n",
      "           0       0.67      0.56      0.61      1290\n",
      "           1       0.64      0.74      0.69      1362\n",
      "\n",
      "    accuracy                           0.65      2652\n",
      "   macro avg       0.66      0.65      0.65      2652\n",
      "weighted avg       0.66      0.65      0.65      2652\n",
      "\n",
      "\n",
      "Confusion matrix for validation set\n",
      "                        Predicted Positive Review  Predicted Negative Review\n",
      "Actual Positive Review                        724                        566\n",
      "Actual Negative Review                        353                       1009\n"
     ]
    }
   ],
   "source": [
    "# Create a pipeline with Count Vectorizer and Naive Bayes\n",
    "pipe_cvec_nb = Pipeline([\n",
    "    ('cvec', CountVectorizer(stop_words='english')),\n",
    "    ('nb', MultinomialNB())\n",
    "])\n",
    "\n",
    "# Search over the following values of hyperparameters:\n",
    "pipe_cvec_nb_params = {\n",
    "    'cvec__max_features': [500], \n",
    "    'cvec__min_df': [2,3],\n",
    "    'cvec__max_df': [.9,.95], \n",
    "#     'cvec__ngram_range':[(1,1),(1,2)],  \n",
    "}\n",
    "\n",
    "# Instantiate GridSearchCV\n",
    "gs_cvec_nb = GridSearchCV(pipe_cvec_nb, \n",
    "                          param_grid = pipe_cvec_nb_params, # Hyperparameters for tuning\n",
    "                          cv=10) # 10-fold cross validation\n",
    "\n",
    "# Fit model on to training data\n",
    "gs_cvec_nb.fit(X_train, y_train)\n",
    "\n",
    "# Generate predictions on validation set\n",
    "cvec_nb_pred = gs_cvec_nb.predict(X_val)\n",
    "\n",
    "# Print best parameters\n",
    "print('Best parameters: ', gs_cvec_nb.best_params_)\n",
    "\n",
    "# Print accuracy scores\n",
    "print('Best CV score: ', gs_cvec_nb.best_score_)\n",
    "print('Training score:', gs_cvec_nb.score(X_train, y_train))\n",
    "print('Validation score:', gs_cvec_nb.score(X_val, y_val))\n",
    "print('')\n",
    "\n",
    "# Print classification report and confusion matrix\n",
    "cmat(y_val, cvec_nb_pred, 'validation set')"
   ]
  },
  {
   "cell_type": "markdown",
   "metadata": {},
   "source": [
    "## tf-idf & naive bayes"
   ]
  },
  {
   "cell_type": "code",
   "execution_count": 63,
   "metadata": {},
   "outputs": [
    {
     "name": "stdout",
     "output_type": "stream",
     "text": [
      "Best parameters:  {'tvec__max_df': 0.9, 'tvec__max_features': 500, 'tvec__min_df': 3}\n",
      "Best CV score:  0.6638394714847153\n",
      "Training score: 0.6851432880844646\n",
      "Validation score: 0.6640271493212669\n",
      "\n",
      "Classification report for validation set\n",
      "              precision    recall  f1-score   support\n",
      "\n",
      "           0       0.68      0.59      0.63      1290\n",
      "           1       0.65      0.73      0.69      1362\n",
      "\n",
      "    accuracy                           0.66      2652\n",
      "   macro avg       0.67      0.66      0.66      2652\n",
      "weighted avg       0.67      0.66      0.66      2652\n",
      "\n",
      "\n",
      "Confusion matrix for validation set\n",
      "                        Predicted Positive Review  Predicted Negative Review\n",
      "Actual Positive Review                        764                        526\n",
      "Actual Negative Review                        365                        997\n"
     ]
    }
   ],
   "source": [
    "# Create a pipeline with TF-IDF and Naive Bayes\n",
    "pipe_tvec_nb = Pipeline([\n",
    "    ('tvec', TfidfVectorizer(stop_words='english')),\n",
    "    ('nb', MultinomialNB())\n",
    "])\n",
    "\n",
    "# Search over the following values of hyperparameters:\n",
    "pipe_tvec_nb_params = {\n",
    "    'tvec__max_features': [500], \n",
    "    'tvec__min_df': [2,3], \n",
    "    'tvec__max_df': [.9,.95], \n",
    "#     'tvec__ngram_range':[(1,1),(1,2)],  \n",
    "}\n",
    "\n",
    "# Instantiate GridSearchCV\n",
    "gs_tvec_nb = GridSearchCV(pipe_tvec_nb, # Objects to optimise\n",
    "                          param_grid = pipe_tvec_nb_params, # Hyperparameters for tuning\n",
    "                          cv=10) # 10-fold cross validation\n",
    "\n",
    "# Fit model on to training data\n",
    "gs_tvec_nb.fit(X_train, y_train)\n",
    "\n",
    "# Generate predictions on validation set\n",
    "tvec_nb_pred = gs_tvec_nb.predict(X_val)\n",
    "\n",
    "# Print best parameters\n",
    "print('Best parameters: ', gs_tvec_nb.best_params_)\n",
    "\n",
    "# Print accuracy scores\n",
    "print('Best CV score: ', gs_tvec_nb.best_score_)\n",
    "print('Training score:', gs_tvec_nb.score(X_train, y_train))\n",
    "print('Validation score:', gs_tvec_nb.score(X_val, y_val))\n",
    "print('')\n",
    "\n",
    "# Print classification report and confusion matrix\n",
    "cmat(y_val, tvec_nb_pred, 'validation set')"
   ]
  },
  {
   "cell_type": "markdown",
   "metadata": {},
   "source": [
    "## count vectorizer & svc"
   ]
  },
  {
   "cell_type": "code",
   "execution_count": 64,
   "metadata": {},
   "outputs": [
    {
     "name": "stdout",
     "output_type": "stream",
     "text": [
      "Best parameters:  {'cvec__max_df': 0.9, 'cvec__max_features': 300, 'cvec__min_df': 3, 'svc__C': 0.1, 'svc__kernel': 'linear'}\n",
      "Best CV score:  0.6398946348229687\n",
      "Training score: 0.6684577677224736\n",
      "Validation score: 0.6425339366515838\n",
      "\n",
      "Classification report for validation set\n",
      "              precision    recall  f1-score   support\n",
      "\n",
      "           0       0.62      0.69      0.65      1290\n",
      "           1       0.67      0.60      0.63      1362\n",
      "\n",
      "    accuracy                           0.64      2652\n",
      "   macro avg       0.64      0.64      0.64      2652\n",
      "weighted avg       0.65      0.64      0.64      2652\n",
      "\n",
      "\n",
      "Confusion matrix for validation set\n",
      "                        Predicted Positive Review  Predicted Negative Review\n",
      "Actual Positive Review                        885                        405\n",
      "Actual Negative Review                        543                        819\n"
     ]
    }
   ],
   "source": [
    "# Create a pipeline with Count Vectorizer and SVC\n",
    "pipe_cvec_svc = Pipeline([\n",
    "    ('cvec', CountVectorizer(stop_words='english')),\n",
    "    ('svc', SVC(random_state=42))\n",
    "])\n",
    "\n",
    "# Search over the following values of hyperparameters:\n",
    "pipe_cvec_svc_params = {\n",
    "    'cvec__max_features': [300], \n",
    "    'cvec__min_df': [2,3], \n",
    "    'cvec__max_df': [.9,.95], \n",
    "#     'cvec__ngram_range':[(1,1),(1,2)],  \n",
    "    'svc__kernel': ['linear'], \n",
    "#     'svc__degree': [3],\n",
    "    'svc__C': [.1]\n",
    "}\n",
    "\n",
    "# Instantiate GridSearchCV\n",
    "gs_cvec_svc = GridSearchCV(pipe_cvec_svc, \n",
    "                          param_grid = pipe_cvec_svc_params, # Hyperparameters for tuning\n",
    "                          cv=10) # 10-fold cross validation\n",
    "\n",
    "# Fit model on to training data\n",
    "gs_cvec_svc.fit(X_train, y_train)\n",
    "\n",
    "# Generate predictions on validation set\n",
    "cvec_svc_pred = gs_cvec_svc.predict(X_val)\n",
    "\n",
    "# Print best parameters\n",
    "print('Best parameters: ', gs_cvec_svc.best_params_)\n",
    "\n",
    "# Print accuracy scores\n",
    "print('Best CV score: ', gs_cvec_svc.best_score_)\n",
    "print('Training score:', gs_cvec_svc.score(X_train, y_train))\n",
    "print('Validation score:', gs_cvec_svc.score(X_val, y_val))\n",
    "print('')\n",
    "\n",
    "# Print classification report and confusion matrix\n",
    "cmat(y_val, cvec_svc_pred, 'validation set')"
   ]
  },
  {
   "cell_type": "markdown",
   "metadata": {},
   "source": [
    "## tf-idf & svc"
   ]
  },
  {
   "cell_type": "code",
   "execution_count": 132,
   "metadata": {},
   "outputs": [
    {
     "name": "stdout",
     "output_type": "stream",
     "text": [
      "Best parameters:  {'svc__C': 0.1, 'svc__kernel': 'linear', 'tvec__max_df': 0.9, 'tvec__max_features': 1000, 'tvec__min_df': 2}\n",
      "Best CV score:  0.6705316273362616\n",
      "Training score: 0.7057880844645551\n",
      "Validation score: 0.6655354449472096\n",
      "\n",
      "Classification report for validation set\n",
      "              precision    recall  f1-score   support\n",
      "\n",
      "           0       0.64      0.70      0.67      1290\n",
      "           1       0.69      0.63      0.66      1362\n",
      "\n",
      "    accuracy                           0.67      2652\n",
      "   macro avg       0.67      0.67      0.67      2652\n",
      "weighted avg       0.67      0.67      0.67      2652\n",
      "\n",
      "\n",
      "Confusion matrix for validation set\n",
      "                        Predicted Positive Review  Predicted Negative Review\n",
      "Actual Positive Review                        902                        388\n",
      "Actual Negative Review                        499                        863\n"
     ]
    }
   ],
   "source": [
    "# Create a pipeline with TF-IDF Vectorizer and SVC\n",
    "pipe_tvec_svc = Pipeline([\n",
    "    ('tvec', TfidfVectorizer(stop_words='english')),\n",
    "    ('svc', SVC(probability=True, random_state=42)) \n",
    "])\n",
    "\n",
    "# Search over the following values of hyperparameters:\n",
    "pipe_tvec_svc_params = {\n",
    "    'tvec__max_features': [1000],\n",
    "    'tvec__min_df': [2,3], \n",
    "    'tvec__max_df': [.9,.95], \n",
    "#     'tvec__ngram_range':[(1,1),(1,2)],  \n",
    "    'svc__kernel': ['linear'],\n",
    "#     'svc__degree': [3],\n",
    "    'svc__C': [.1] # .01\n",
    "}\n",
    "\n",
    "# Instantiate GridSearchCV\n",
    "gs_tvec_svc = GridSearchCV(pipe_tvec_svc, # Objects to optimise\n",
    "                          param_grid = pipe_tvec_svc_params, # Hyperparameters for tuning\n",
    "                          cv=10) # 10-fold cross validation\n",
    "\n",
    "# Fit model on to training data\n",
    "gs_tvec_svc.fit(X_train, y_train)\n",
    "\n",
    "# Generate predictions on validation set\n",
    "tvec_svc_pred = gs_tvec_svc.predict(X_val)\n",
    "\n",
    "# Print best parameters\n",
    "print('Best parameters: ', gs_tvec_svc.best_params_)\n",
    "\n",
    "# Print accuracy scores\n",
    "print('Best CV score: ', gs_tvec_svc.best_score_)\n",
    "print('Training score:', gs_tvec_svc.score(X_train, y_train))\n",
    "print('Validation score:', gs_tvec_svc.score(X_val, y_val))\n",
    "print('')\n",
    "\n",
    "# Print classification report and confusion matrix\n",
    "cmat(y_val, tvec_svc_pred, 'validation set')"
   ]
  },
  {
   "cell_type": "markdown",
   "metadata": {},
   "source": [
    "## Deep Learning"
   ]
  },
  {
   "cell_type": "code",
   "execution_count": 116,
   "metadata": {},
   "outputs": [],
   "source": [
    "X_train_list = X_train.values\n",
    "X_val_list = X_val.values\n",
    "\n",
    "y_train_list = y_train.values\n",
    "y_val_list = y_val.values"
   ]
  },
  {
   "cell_type": "code",
   "execution_count": 117,
   "metadata": {},
   "outputs": [],
   "source": [
    "max_words = 800\n",
    "\n",
    "# Tokenize the data\n",
    "tokenizer = Tokenizer(num_words=max_words)\n",
    "tokenizer.fit_on_texts(list(X_train_list))\n",
    "\n",
    "# Convert the text to sequences\n",
    "X_train_list = tokenizer.texts_to_sequences(X_train_list)\n",
    "X_val_list = tokenizer.texts_to_sequences(X_val_list)"
   ]
  },
  {
   "cell_type": "code",
   "execution_count": 118,
   "metadata": {},
   "outputs": [
    {
     "name": "stdout",
     "output_type": "stream",
     "text": [
      "Vocabulary size: 17387\n"
     ]
    }
   ],
   "source": [
    "vocab_size = len(tokenizer.word_index)+1\n",
    "print('Vocabulary size:', vocab_size)"
   ]
  },
  {
   "cell_type": "code",
   "execution_count": 119,
   "metadata": {},
   "outputs": [],
   "source": [
    "max_length = 30 \n",
    "\n",
    "X_train_padded = pad_sequences(X_train_list, maxlen=max_length, padding='post')\n",
    "X_val_padded = pad_sequences(X_val_list, maxlen=max_length, padding='post')"
   ]
  },
  {
   "cell_type": "code",
   "execution_count": 120,
   "metadata": {},
   "outputs": [],
   "source": [
    "# Instantiate model\n",
    "model = Sequential()\n",
    "\n",
    "# Add embedding layer, embed_dim:8\n",
    "model.add(Embedding(vocab_size, 8, input_length=max_length)) \n",
    "\n",
    "# SpatialDropout1D performs variational dropout\n",
    "model.add(SpatialDropout1D(0.2))\n",
    "\n",
    "# Add LSTM\n",
    "model.add(Bidirectional(LSTM(8, return_sequences=True, dropout=0.5, recurrent_dropout=0))) \n",
    "\n",
    "# Add a dense layer\n",
    "model.add(Dense(8, activation='relu'))\n",
    "\n",
    "# Add output layer\n",
    "model.add(Dense(1, activation='sigmoid'))\n",
    "\n",
    "# Compile the model\n",
    "model.compile(optimizer=Adam(lr=0.001), loss='binary_crossentropy', metrics=['accuracy'])"
   ]
  },
  {
   "cell_type": "code",
   "execution_count": 121,
   "metadata": {},
   "outputs": [
    {
     "name": "stdout",
     "output_type": "stream",
     "text": [
      "Model: \"sequential_2\"\n",
      "_________________________________________________________________\n",
      "Layer (type)                 Output Shape              Param #   \n",
      "=================================================================\n",
      "embedding_2 (Embedding)      (None, 30, 8)             139096    \n",
      "_________________________________________________________________\n",
      "spatial_dropout1d_2 (Spatial (None, 30, 8)             0         \n",
      "_________________________________________________________________\n",
      "bidirectional_2 (Bidirection (None, 30, 16)            1088      \n",
      "_________________________________________________________________\n",
      "dense_4 (Dense)              (None, 30, 8)             136       \n",
      "_________________________________________________________________\n",
      "dense_5 (Dense)              (None, 30, 1)             9         \n",
      "=================================================================\n",
      "Total params: 140,329\n",
      "Trainable params: 140,329\n",
      "Non-trainable params: 0\n",
      "_________________________________________________________________\n"
     ]
    }
   ],
   "source": [
    "model.summary()"
   ]
  },
  {
   "cell_type": "code",
   "execution_count": 123,
   "metadata": {},
   "outputs": [],
   "source": [
    "#Recall to save the models and weights\n",
    "\n",
    "outputFolder = './output'\n",
    "if not os.path.exists(outputFolder):\n",
    "    os.makedirs(outputFolder)\n",
    "filepath = outputFolder+\"/model-{epoch:02d}-{val_accuracy:.3f}.hdf5\"\n",
    "\n",
    "checkpoint_callback = ModelCheckpoint(\n",
    "    filepath, monitor='val_accuracy', verbose=1,\n",
    "    save_best_only=False, save_weights_only=False,\n",
    "    save_frequency=1)"
   ]
  },
  {
   "cell_type": "code",
   "execution_count": 124,
   "metadata": {},
   "outputs": [
    {
     "name": "stdout",
     "output_type": "stream",
     "text": [
      "Epoch 1/10\n",
      "166/166 [==============================] - ETA: 0s - loss: 0.6911 - accuracy: 0.5361\n",
      "Epoch 00001: saving model to ./output/model-01-0.587.hdf5\n",
      "166/166 [==============================] - 6s 35ms/step - loss: 0.6911 - accuracy: 0.5361 - val_loss: 0.6806 - val_accuracy: 0.5874\n",
      "Epoch 2/10\n",
      "165/166 [============================>.] - ETA: 0s - loss: 0.6342 - accuracy: 0.6496\n",
      "Epoch 00002: saving model to ./output/model-02-0.656.hdf5\n",
      "166/166 [==============================] - 4s 26ms/step - loss: 0.6337 - accuracy: 0.6502 - val_loss: 0.6255 - val_accuracy: 0.6557\n",
      "Epoch 3/10\n",
      "164/166 [============================>.] - ETA: 0s - loss: 0.6014 - accuracy: 0.6752\n",
      "Epoch 00003: saving model to ./output/model-03-0.661.hdf5\n",
      "166/166 [==============================] - 4s 26ms/step - loss: 0.6011 - accuracy: 0.6755 - val_loss: 0.6101 - val_accuracy: 0.6611\n",
      "Epoch 4/10\n",
      "164/166 [============================>.] - ETA: 0s - loss: 0.5832 - accuracy: 0.6917\n",
      "Epoch 00004: saving model to ./output/model-04-0.656.hdf5\n",
      "166/166 [==============================] - 4s 27ms/step - loss: 0.5834 - accuracy: 0.6910 - val_loss: 0.6170 - val_accuracy: 0.6561\n",
      "Epoch 5/10\n",
      "165/166 [============================>.] - ETA: 0s - loss: 0.5801 - accuracy: 0.6909\n",
      "Epoch 00005: saving model to ./output/model-05-0.649.hdf5\n",
      "166/166 [==============================] - 4s 26ms/step - loss: 0.5800 - accuracy: 0.6910 - val_loss: 0.6408 - val_accuracy: 0.6492\n",
      "Epoch 6/10\n",
      "165/166 [============================>.] - ETA: 0s - loss: 0.5747 - accuracy: 0.6987\n",
      "Epoch 00006: saving model to ./output/model-06-0.658.hdf5\n",
      "166/166 [==============================] - 4s 26ms/step - loss: 0.5743 - accuracy: 0.6990 - val_loss: 0.6110 - val_accuracy: 0.6578\n",
      "Epoch 7/10\n",
      "166/166 [==============================] - ETA: 0s - loss: 0.5700 - accuracy: 0.6992\n",
      "Epoch 00007: saving model to ./output/model-07-0.654.hdf5\n",
      "166/166 [==============================] - 4s 27ms/step - loss: 0.5700 - accuracy: 0.6992 - val_loss: 0.6177 - val_accuracy: 0.6544\n",
      "Epoch 8/10\n",
      "165/166 [============================>.] - ETA: 0s - loss: 0.5707 - accuracy: 0.7036\n",
      "Epoch 00008: saving model to ./output/model-08-0.661.hdf5\n",
      "166/166 [==============================] - 4s 26ms/step - loss: 0.5709 - accuracy: 0.7036 - val_loss: 0.6074 - val_accuracy: 0.6606\n",
      "Epoch 9/10\n",
      "165/166 [============================>.] - ETA: 0s - loss: 0.5681 - accuracy: 0.7009\n",
      "Epoch 00009: saving model to ./output/model-09-0.659.hdf5\n",
      "166/166 [==============================] - 4s 26ms/step - loss: 0.5683 - accuracy: 0.7009 - val_loss: 0.6067 - val_accuracy: 0.6589\n",
      "Epoch 10/10\n",
      "165/166 [============================>.] - ETA: 0s - loss: 0.5676 - accuracy: 0.7050\n",
      "Epoch 00010: saving model to ./output/model-10-0.660.hdf5\n",
      "166/166 [==============================] - 4s 26ms/step - loss: 0.5675 - accuracy: 0.7051 - val_loss: 0.6069 - val_accuracy: 0.6602\n",
      "CPU times: user 1min 34s, sys: 13.5 s, total: 1min 48s\n",
      "Wall time: 49.9 s\n"
     ]
    }
   ],
   "source": [
    "%%time\n",
    "# Fit the model and store it in the history object\n",
    "history = model.fit(X_train_padded, y_train_list, epochs=10, batch_size=64, validation_data=(X_val_padded, y_val_list), callbacks=[checkpoint_callback])"
   ]
  },
  {
   "cell_type": "code",
   "execution_count": 125,
   "metadata": {},
   "outputs": [
    {
     "data": {
      "image/png": "[encoded data removed]",
      "text/plain": [
       "<Figure size 720x576 with 1 Axes>"
      ]
     },
     "metadata": {},
     "output_type": "display_data"
    }
   ],
   "source": [
    "#Plot the training and validation loss by epoch\n",
    "\n",
    "plt.figure(figsize=(10,8))\n",
    "epochs = range(1,11)\n",
    "plt.plot(epochs, history.history['loss'], label='Training loss')\n",
    "plt.plot(epochs, history.history['val_loss'], label='Validation loss')\n",
    "plt.title('Training and Validation Loss by Epoch', size=15, weight='bold')\n",
    "plt.xlabel('Epochs', size=12)\n",
    "plt.ylabel('Loss', size=12)\n",
    "plt.xticks(np.arange(1,11,1))\n",
    "plt.legend();"
   ]
  },
  {
   "cell_type": "code",
   "execution_count": 126,
   "metadata": {},
   "outputs": [
    {
     "data": {
      "image/png": "[encoded data removed]",
      "text/plain": [
       "<Figure size 720x576 with 1 Axes>"
      ]
     },
     "metadata": {},
     "output_type": "display_data"
    }
   ],
   "source": [
    "# Plot the training and validation accuracy by epoch\n",
    "\n",
    "plt.figure(figsize=(10,8))\n",
    "epochs = range(1,11)\n",
    "plt.plot(epochs, history.history['accuracy'], label='Training accuracy')\n",
    "plt.plot(epochs, history.history['val_accuracy'], label='Validation accuracy')\n",
    "plt.title('Training and Validation Accuracy by Epoch', size=15, weight='bold')\n",
    "plt.xlabel('Epochs', size=12)\n",
    "plt.ylabel('Accuracy', size=12)\n",
    "plt.xticks(np.arange(1,11,1))\n",
    "plt.legend();"
   ]
  },
  {
   "cell_type": "markdown",
   "metadata": {},
   "source": [
    "## Loading a check-pointed model"
   ]
  },
  {
   "cell_type": "code",
   "execution_count": 127,
   "metadata": {},
   "outputs": [],
   "source": [
    "# Load weights\n",
    "model.load_weights('./output/model-03-0.661.hdf5')"
   ]
  },
  {
   "cell_type": "code",
   "execution_count": 128,
   "metadata": {},
   "outputs": [],
   "source": [
    "# Compile the model\n",
    "model.compile(optimizer=Adam(lr=0.001), loss='binary_crossentropy', metrics=['accuracy'])"
   ]
  },
  {
   "cell_type": "code",
   "execution_count": 129,
   "metadata": {},
   "outputs": [],
   "source": [
    "# Generate predictions on validation set\n",
    "class_preds = (model.predict(X_val_padded) > 0.5).astype(int)"
   ]
  },
  {
   "cell_type": "code",
   "execution_count": 130,
   "metadata": {},
   "outputs": [],
   "source": [
    "val_preds = []\n",
    "\n",
    "# Loop through the class prediction list and append the predictions to val_preds\n",
    "for i in class_preds:\n",
    "    val_preds.append(i[0][0])\n",
    "\n",
    "# Convert val_preds to a series\n",
    "val_preds = pd.Series(val_preds)"
   ]
  },
  {
   "cell_type": "code",
   "execution_count": 131,
   "metadata": {},
   "outputs": [
    {
     "name": "stdout",
     "output_type": "stream",
     "text": [
      "Accuracy score on training set:  0.7120724320411682\n",
      "Accuracy score on validation set:  0.6610608100891113\n",
      "\n",
      "Classification report for validation set\n",
      "              precision    recall  f1-score   support\n",
      "\n",
      "           0       0.63      0.68      0.66      1290\n",
      "           1       0.68      0.63      0.65      1362\n",
      "\n",
      "    accuracy                           0.65      2652\n",
      "   macro avg       0.66      0.66      0.65      2652\n",
      "weighted avg       0.66      0.65      0.65      2652\n",
      "\n",
      "\n",
      "Confusion matrix for validation set\n",
      "                        Predicted Positive Review  Predicted Negative Review\n",
      "Actual Positive Review                        880                        410\n",
      "Actual Negative Review                        506                        856\n"
     ]
    }
   ],
   "source": [
    "# Accuracy scores\n",
    "print('Accuracy score on training set: ', model.evaluate(X_train_padded, y_train_list, verbose=0)[1])\n",
    "print('Accuracy score on validation set: ', model.evaluate(X_val_padded, y_val_list, verbose=0)[1])\n",
    "print('')\n",
    "\n",
    "# Print classification report and confusion matrix for validation set\n",
    "cmat(y_val, val_preds, 'validation set')"
   ]
  },
  {
   "cell_type": "markdown",
   "metadata": {},
   "source": [
    "# Model Evaluation: Summary Metrics"
   ]
  },
  {
   "cell_type": "markdown",
   "metadata": {},
   "source": [
    "|                                                             \t| Accuracy on Training Set \t| Accuracy on Validation Set \t| Recall on Validation Set \t|\n",
    "|:-------------------------------------------------------------\t|:--------------------------:\t|:----------------------------:\t|:--------------------------:\t|\n",
    "| TF-IDF & SVC                                                \t| 0.7058                    \t| 0.6655                      \t| 0.63                     \t|\n",
    "| Count Vectorizer & Naïve Bayes                              \t| 0.6799                    \t| 0.6535                      \t| 0.74                     \t|\n",
    "| Bidirectional LSTM                                          \t| 0.7121                    \t| 0.6611                      \t| 0.63                     \t|\n",
    "| TF-IDF & Logistic Regression                                \t| 0.6702                    \t| 0.6455                      \t| 0.71                     \t|\n",
    "| TF-IDF & Naïve Bayes                                        \t| 0.6851                    \t| 0.6640                      \t| 0.73                     \t|\n",
    "| Count Vectorizer & SVC                                      \t| 0.6685                    \t| 0.6425                      \t| 0.60                     \t|\n",
    "| Count Vectorizer & Logistic Regression                      \t| 0.6656                    \t| 0.6452                      \t| 0.72                     \t|"
   ]
  },
  {
   "cell_type": "code",
   "execution_count": null,
   "metadata": {},
   "outputs": [],
   "source": []
  },
  {
   "cell_type": "markdown",
   "metadata": {},
   "source": [
    "# Production Model's Most Predictive Words"
   ]
  },
  {
   "cell_type": "code",
   "execution_count": 152,
   "metadata": {},
   "outputs": [],
   "source": [
    "# Save the words obtained from TF-IDF vectorizer in a dataframe\n",
    "svc_coef = pd.DataFrame(gs_tvec_svc.best_estimator_.named_steps['tvec'].get_feature_names(), columns=['word'])"
   ]
  },
  {
   "cell_type": "code",
   "execution_count": 153,
   "metadata": {},
   "outputs": [],
   "source": [
    "# Coefficients\n",
    "svc_coef['coef'] = gs_tvec_svc.best_estimator_.named_steps['svc'].coef_.toarray()[0]"
   ]
  },
  {
   "cell_type": "code",
   "execution_count": 189,
   "metadata": {},
   "outputs": [
    {
     "data": {
      "text/html": [
       "<div>\n",
       "<style scoped>\n",
       "    .dataframe tbody tr th:only-of-type {\n",
       "        vertical-align: middle;\n",
       "    }\n",
       "\n",
       "    .dataframe tbody tr th {\n",
       "        vertical-align: top;\n",
       "    }\n",
       "\n",
       "    .dataframe thead th {\n",
       "        text-align: right;\n",
       "    }\n",
       "</style>\n",
       "<table border=\"1\" class=\"dataframe\">\n",
       "  <thead>\n",
       "    <tr style=\"text-align: right;\">\n",
       "      <th></th>\n",
       "      <th>word</th>\n",
       "      <th>coef</th>\n",
       "    </tr>\n",
       "  </thead>\n",
       "  <tbody>\n",
       "    <tr>\n",
       "      <th>613</th>\n",
       "      <td>okay</td>\n",
       "      <td>-1.321011</td>\n",
       "    </tr>\n",
       "    <tr>\n",
       "      <th>86</th>\n",
       "      <td>boring</td>\n",
       "      <td>-1.319550</td>\n",
       "    </tr>\n",
       "    <tr>\n",
       "      <th>200</th>\n",
       "      <td>decent</td>\n",
       "      <td>-1.314406</td>\n",
       "    </tr>\n",
       "    <tr>\n",
       "      <th>612</th>\n",
       "      <td>ok</td>\n",
       "      <td>-1.309870</td>\n",
       "    </tr>\n",
       "    <tr>\n",
       "      <th>49</th>\n",
       "      <td>bad</td>\n",
       "      <td>-1.257564</td>\n",
       "    </tr>\n",
       "  </tbody>\n",
       "</table>\n",
       "</div>"
      ],
      "text/plain": [
       "       word      coef\n",
       "613    okay -1.321011\n",
       "86   boring -1.319550\n",
       "200  decent -1.314406\n",
       "612      ok -1.309870\n",
       "49      bad -1.257564"
      ]
     },
     "execution_count": 189,
     "metadata": {},
     "output_type": "execute_result"
    }
   ],
   "source": [
    "svc_coef.sort_values(by='coef').head()"
   ]
  },
  {
   "cell_type": "code",
   "execution_count": 190,
   "metadata": {},
   "outputs": [
    {
     "data": {
      "text/html": [
       "<div>\n",
       "<style scoped>\n",
       "    .dataframe tbody tr th:only-of-type {\n",
       "        vertical-align: middle;\n",
       "    }\n",
       "\n",
       "    .dataframe tbody tr th {\n",
       "        vertical-align: top;\n",
       "    }\n",
       "\n",
       "    .dataframe thead th {\n",
       "        text-align: right;\n",
       "    }\n",
       "</style>\n",
       "<table border=\"1\" class=\"dataframe\">\n",
       "  <thead>\n",
       "    <tr style=\"text-align: right;\">\n",
       "      <th></th>\n",
       "      <th>word</th>\n",
       "      <th>coef</th>\n",
       "    </tr>\n",
       "  </thead>\n",
       "  <tbody>\n",
       "    <tr>\n",
       "      <th>23</th>\n",
       "      <td>amazing</td>\n",
       "      <td>1.454343</td>\n",
       "    </tr>\n",
       "    <tr>\n",
       "      <th>45</th>\n",
       "      <td>awesome</td>\n",
       "      <td>1.533220</td>\n",
       "    </tr>\n",
       "    <tr>\n",
       "      <th>323</th>\n",
       "      <td>favorite</td>\n",
       "      <td>1.762709</td>\n",
       "    </tr>\n",
       "    <tr>\n",
       "      <th>385</th>\n",
       "      <td>great</td>\n",
       "      <td>2.124807</td>\n",
       "    </tr>\n",
       "    <tr>\n",
       "      <th>520</th>\n",
       "      <td>love</td>\n",
       "      <td>2.231962</td>\n",
       "    </tr>\n",
       "  </tbody>\n",
       "</table>\n",
       "</div>"
      ],
      "text/plain": [
       "         word      coef\n",
       "23    amazing  1.454343\n",
       "45    awesome  1.533220\n",
       "323  favorite  1.762709\n",
       "385     great  2.124807\n",
       "520      love  2.231962"
      ]
     },
     "execution_count": 190,
     "metadata": {},
     "output_type": "execute_result"
    }
   ],
   "source": [
    "svc_coef.sort_values(by='coef').tail()"
   ]
  },
  {
   "cell_type": "code",
   "execution_count": 183,
   "metadata": {},
   "outputs": [],
   "source": [
    "# Top words related to negative sentiment (class 0)\n",
    "neg_sent_svc = svc_coef.sort_values(by='coef').head(10)\n",
    "\n",
    "# Top words related to positive sentiment (class 1)\n",
    "pos_sent_svc = svc_coef.sort_values(by='coef').tail(10)"
   ]
  },
  {
   "cell_type": "code",
   "execution_count": 186,
   "metadata": {},
   "outputs": [
    {
     "data": {
      "image/png": "[encoded data removed]",
      "text/plain": [
       "<Figure size 720x576 with 1 Axes>"
      ]
     },
     "metadata": {},
     "output_type": "display_data"
    }
   ],
   "source": [
    "pos_sent_svc.sort_values('coef', ascending=False).plot(x='word', y='coef', kind='barh', figsize=(10,8), legend=None, color='#28B463')\n",
    "plt.title(\"SVC's Top 10 Most Predictive Words for Positive Sentiment\", size=15, weight='bold')\n",
    "plt.yticks(size=12)\n",
    "plt.ylabel('Word', size=12)\n",
    "plt.xlabel(\"Coefficient\", size=12)\n",
    "plt.tight_layout();"
   ]
  },
  {
   "cell_type": "code",
   "execution_count": 187,
   "metadata": {},
   "outputs": [
    {
     "data": {
      "image/png": "[encoded data removed]",
      "text/plain": [
       "<Figure size 720x576 with 1 Axes>"
      ]
     },
     "metadata": {},
     "output_type": "display_data"
    }
   ],
   "source": [
    "neg_sent_svc.plot(x='word', y='coef', kind='barh', figsize=(10,8), legend=None, color='#CB4335')\n",
    "plt.title(\"SVC's Top 10 Most Predictive Words for Negative Sentiment\", size=15, weight='bold')\n",
    "plt.yticks(size=12)\n",
    "plt.ylabel('Word', size=12)\n",
    "plt.xlabel(\"Coefficient\", size=12)\n",
    "plt.tight_layout();"
   ]
  },
  {
   "cell_type": "markdown",
   "metadata": {},
   "source": [
    "# Evaluate Production Model on Test Set"
   ]
  },
  {
   "cell_type": "code",
   "execution_count": 133,
   "metadata": {},
   "outputs": [],
   "source": [
    "# Read test set into a dataframe\n",
    "test = pd.read_csv('./datasets/clean_test.csv')"
   ]
  },
  {
   "cell_type": "code",
   "execution_count": 134,
   "metadata": {},
   "outputs": [
    {
     "data": {
      "text/plain": [
       "(3315, 7)"
      ]
     },
     "execution_count": 134,
     "metadata": {},
     "output_type": "execute_result"
    }
   ],
   "source": [
    "# There are 3315 documents in our test set\n",
    "test.shape"
   ]
  },
  {
   "cell_type": "code",
   "execution_count": 135,
   "metadata": {},
   "outputs": [
    {
     "data": {
      "text/plain": [
       "1    0.513424\n",
       "0    0.486576\n",
       "Name: target, dtype: float64"
      ]
     },
     "execution_count": 135,
     "metadata": {},
     "output_type": "execute_result"
    }
   ],
   "source": [
    "# The class representation in our test set looks similar to our training set as we used stratify\n",
    "test['target'].value_counts(normalize=True)"
   ]
  },
  {
   "cell_type": "code",
   "execution_count": 136,
   "metadata": {},
   "outputs": [],
   "source": [
    "# Establish our X and y variables\n",
    "X_test = test['comment_clean']\n",
    "y_test = test['target']"
   ]
  },
  {
   "cell_type": "code",
   "execution_count": 137,
   "metadata": {},
   "outputs": [],
   "source": [
    "test_pred = gs_tvec_svc.predict(X_test)"
   ]
  },
  {
   "cell_type": "code",
   "execution_count": 138,
   "metadata": {},
   "outputs": [
    {
     "name": "stdout",
     "output_type": "stream",
     "text": [
      "Evaluation metrics for test set\n",
      "\n",
      "Accuracy score:  0.6690799396681749\n",
      "\n",
      "Classification report for test set\n",
      "              precision    recall  f1-score   support\n",
      "\n",
      "           0       0.65      0.71      0.68      1613\n",
      "           1       0.70      0.63      0.66      1702\n",
      "\n",
      "    accuracy                           0.67      3315\n",
      "   macro avg       0.67      0.67      0.67      3315\n",
      "weighted avg       0.67      0.67      0.67      3315\n",
      "\n",
      "\n",
      "Confusion matrix for test set\n",
      "                        Predicted Positive Review  Predicted Negative Review\n",
      "Actual Positive Review                       1141                        472\n",
      "Actual Negative Review                        625                       1077\n"
     ]
    }
   ],
   "source": [
    "print('Evaluation metrics for test set')\n",
    "print('')\n",
    "print('Accuracy score: ', accuracy_score(y_test, test_pred))\n",
    "print('')\n",
    "\n",
    "# Print classification report and confusion matrix\n",
    "cmat(y_test, test_pred, 'test set')"
   ]
  },
  {
   "cell_type": "markdown",
   "metadata": {},
   "source": [
    "## Success Evaluation"
   ]
  },
  {
   "cell_type": "markdown",
   "metadata": {},
   "source": [
    "Given that our production model achieves 0.67 on accuracy, higher than our baseline model of 0.51 and 0.63 on recall, we can conclude that the model generalises well on unseen data."
   ]
  }
 ],
 "metadata": {
  "kernelspec": {
   "display_name": "Python 3",
   "language": "python",
   "name": "python3"
  },
  "language_info": {
   "codemirror_mode": {
    "name": "ipython",
    "version": 3
   },
   "file_extension": ".py",
   "mimetype": "text/x-python",
   "name": "python",
   "nbconvert_exporter": "python",
   "pygments_lexer": "ipython3",
   "version": "3.7.6"
  }
 },
 "nbformat": 4,
 "nbformat_minor": 4
}
